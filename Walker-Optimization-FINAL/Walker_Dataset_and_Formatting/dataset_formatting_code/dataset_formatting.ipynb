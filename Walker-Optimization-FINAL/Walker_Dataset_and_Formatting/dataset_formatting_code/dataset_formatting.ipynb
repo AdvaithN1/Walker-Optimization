{
 "cells": [
  {
   "cell_type": "code",
   "execution_count": 1,
   "metadata": {},
   "outputs": [
    {
     "ename": "",
     "evalue": "",
     "output_type": "error",
     "traceback": [
      "\u001b[1;31mCannot execute code, session has been disposed. Please try restarting the Kernel."
     ]
    },
    {
     "ename": "",
     "evalue": "",
     "output_type": "error",
     "traceback": [
      "\u001b[1;31mThe Kernel crashed while executing code in the the current cell or a previous cell. Please review the code in the cell(s) to identify a possible cause of the failure. Click <a href='https://aka.ms/vscodeJupyterKernelCrash'>here</a> for more info. View Jupyter <a href='command:jupyter.viewOutput'>log</a> for further details."
     ]
    }
   ],
   "source": [
    "import numpy as np\n",
    "from numpy import random\n",
    "import pandas as pd\n",
    "import scipy.stats as st\n",
    "from pathlib import Path\n",
    "import sys\n",
    "sys.path.append('sobol_seq-0.1-np19py34_0/lib/python3.4/site-packages')\n",
    "sys.path.append('getInvalid.py')\n",
    "from sobol_seq import sobol_seq\n",
    "import random\n",
    "import getInvalid"
   ]
  },
  {
   "attachments": {},
   "cell_type": "markdown",
   "metadata": {},
   "source": [
    "**In the following cell, we figure out what the materials are called. For SW to know the material properties, it has to look them up from a specified file location. The formatting of this is difficult to get right, so we save a design study template file from solidworks, then load it here and examine the material names**"
   ]
  },
  {
   "cell_type": "code",
   "execution_count": null,
   "metadata": {},
   "outputs": [],
   "source": [
    "template=pd.read_csv(\"Walker_Generation_Template.csv\", encoding=\"ISO-8859-1\")\n",
    "df=template.copy()\n",
    "# print(df)\n",
    "df.reset_index(inplace=True)  \n",
    "if \"index\" in df.columns:\n",
    "    df.drop([\"index\"], axis=1, inplace=True)\n",
    "# print(df)\n",
    "df.drop(df.index[1], inplace=True)\n",
    "df.drop(df.columns[0:2], axis=1, inplace=True)\n",
    "\n",
    "df.columns = df.iloc[0]\n",
    "# print(df.columns)\n",
    "df.drop(df.index[0], inplace=True)\n",
    "\n",
    "#Define specific materials to insert into design templates\n",
    "steel=\" AISI 4130 Steel#^# annealed at 865C@SOLIDWORKS Materials$SOLIDWORKS Materials|AISI 4130 Steel#^# annealed at 865C|94$C:/Program Files/SOLIDWORKS Corp/SOLIDWORKS/lang/english/sldmaterials/SOLIDWORKS Materials.sldmat|AISI 4130 Steel#^# annealed at 865C|94\"\n",
    "aluminum=\" 6061-T6 (SS)@SOLIDWORKS Materials$SOLIDWORKS Materials|6061-T6 (SS)|164$C:/Program Files/SOLIDWORKS Corp/SOLIDWORKS/lang/english/sldmaterials/SOLIDWORKS Materials.sldmat|6061-T6 (SS)|164\"\n",
    "titanium=\" Ti-6Al-4VSolution treated and aged (SS)@SOLIDWORKS Materials$SOLIDWORKS Materials|Ti-6Al-4VSolution treated and aged (SS)|205$C:/Program Files/SOLIDWORKS Corp/SOLIDWORKS/lang/english/sldmaterials/SOLIDWORKS Materials.sldmat|Ti-6Al-4VSolution treated and aged (SS)|205\"\n",
    "print(steel)\n",
    "print(aluminum)\n",
    "print(titanium)\n",
    "df.drop(df.index, axis=0, inplace=True)\n",
    "# df.columns\n"
   ]
  },
  {
   "attachments": {},
   "cell_type": "markdown",
   "metadata": {},
   "source": [
    "**We set the parameter ranges for the parameters here:**"
   ]
  },
  {
   "cell_type": "code",
   "execution_count": null,
   "metadata": {},
   "outputs": [],
   "source": [
    "\n",
    "scaledf=pd.DataFrame()\n",
    "\n",
    "# scaledf[\"Name in Solidworks\"] = [minimum,range]\n",
    "\n",
    "scaledf[\"H\"] = [31, 9]\n",
    "scaledf[\"L1\"] = [13, 9]\n",
    "scaledf[\"L2\"] = [5, 30]\n",
    "scaledf[\"L3\"] = [1, 10]\n",
    "scaledf[\"L4\"] = [3, 10]\n",
    "scaledf[\"L5\"] = [9, 20]\n",
    "scaledf[\"L7\"] = [7, 18]\n",
    "scaledf[\"L8\"] = [5, 10]\n",
    "scaledf[\"A2\"] = [100, 75]\n",
    "scaledf[\"D\"] = [0.05, 0.6]\n",
    "scaledf[\"T\"] = [0.05, 0.3]\n",
    "scaledf[\"D2\"] = [0.05, 0.6]\n",
    "scaledf[\"T2\"] = [0.05, 0.3]\n",
    "scaledf[\"D3\"] = [0.25, 0.7]\n",
    "#material\n",
    "scaledf.index=[\"min\", \"factor\"]\n",
    "scaledf=scaledf.transpose()"
   ]
  },
  {
   "attachments": {},
   "cell_type": "markdown",
   "metadata": {},
   "source": [
    "**We create the sobol sequence an scale the sobol vectors by the scale factors defined in the previous cell.**"
   ]
  },
  {
   "cell_type": "code",
   "execution_count": null,
   "metadata": {},
   "outputs": [],
   "source": [
    "seqlength=55000\n",
    "sobolvec= sobol_seq.i4_sobol_generate(len(scaledf.index), seqlength)\n",
    "\n",
    "scalefactor = scaledf[\"factor\"].values\n",
    "scalemin = scaledf[\"min\"].values\n",
    "unscaled = np.array(sobolvec)\n",
    "\n",
    "expL3 = 1\n",
    "expL4 = 1\n",
    "\n",
    "scaled = []\n",
    "for row in unscaled:\n",
    "    scaled_row = []\n",
    "    for i, value in enumerate(row):\n",
    "        if(scaledf.index[i] == \"L3\"):\n",
    "            scaled_value = (value**expL3) * scalefactor[i] + scalemin[i]\n",
    "        elif(scaledf.index[i] == \"L4\"):\n",
    "            scaled_value = (value**expL4) * scalefactor[i] + scalemin[i]\n",
    "        else:\n",
    "            scaled_value = value * scalefactor[i] + scalemin[i]\n",
    "        scaled_row.append(scaled_value)\n",
    "    scaled.append(scaled_row)\n",
    "\n",
    "\n",
    "# scaled = unscaled * scalefactor + scalemin\n",
    "\n",
    "scaled = pd.DataFrame(scaled, columns = scaledf.index )\n",
    "\n",
    "# print(np.shape(res))\n",
    "# numconfigs=1000\n",
    "# numparams=len(res[0,:])\n",
    "# configs=np.zeros((numconfigs,numparams))\n",
    "# i=0\n",
    "# sobidx=0\n",
    "# while i<(numconfigs) and sobidx<seqlength:\n",
    "#     config=res[sobidx,:]\n",
    "#     sobidx+=1\n",
    "#     if checkconfig(config):\n",
    "#         configs[i,:]=config\n",
    "#         if config[0]==float(\"NaN\"):\n",
    "#             print(res[sobidx,:])\n",
    "#         i+=1\n",
    "# configdf=pd.DataFrame(configs, columns=cols)\n",
    "print(scaled)"
   ]
  },
  {
   "attachments": {},
   "cell_type": "markdown",
   "metadata": {},
   "source": [
    "**We randomize a few parameters that are not continuous variables. For example, we have three discrete materials. We also have two boolean parameters (true/false) governing whether we have seat stay and chain stay bridges on the bike**"
   ]
  },
  {
   "cell_type": "code",
   "execution_count": null,
   "metadata": {},
   "outputs": [],
   "source": [
    "# count=0\n",
    "walkers=[]\n",
    "df=scaled.copy()\n",
    "df.columns = [\" \" + string for string in list(df.columns)]\n",
    "        \n",
    "for idx in df.index:\n",
    "    matnum = random.randint(0,2)\n",
    "    if matnum==0:\n",
    "        df.at[idx, \" CrossMat\"] = steel\n",
    "    if matnum==1:\n",
    "        df.at[idx, \" CrossMat\"] = aluminum\n",
    "    if matnum==2:\n",
    "        df.at[idx, \" CrossMat\"] = titanium\n",
    "    matnum = random.randint(0,2)\n",
    "    if matnum==0:\n",
    "        df.at[idx, \" FrameMat\"] = steel\n",
    "    if matnum==1:\n",
    "        df.at[idx, \" FrameMat\"] = aluminum\n",
    "    if matnum==2:\n",
    "        df.at[idx, \" FrameMat\"] = titanium\n",
    "    # if (df.at[idx, \" D2\"] + df.at[idx, \" T2\"]) > (df.at[idx, \" D\"] + df.at[idx, \" T\"]): \n",
    "    #     df.at[idx, \" D2\"] = df.at[idx, \" D\"]\n",
    "    #     df.at[idx, \" T2\"] = df.at[idx, \" T\"]\n",
    "        \n",
    "# print(df)\n",
    "\n",
    "\n",
    "invalid_walkers, perc=getInvalid.getInvalid(df)\n",
    "print(len(invalid_walkers))\n",
    "print(invalid_walkers)\n",
    "df.drop(invalid_walkers, inplace=True)\n",
    "\n",
    "# print(np.array(bridges))\n",
    "# np.save(\"./Batch Info/bridges\", np.array(bridges))"
   ]
  },
  {
   "attachments": {},
   "cell_type": "markdown",
   "metadata": {},
   "source": [
    "**Save the file for reference, then load it back up (avoids having to run the above code every time we generate a batch of designs to simulate). We typically simulate ~200 at a time otherwise SW gets overwhelmed (max 500).**"
   ]
  },
  {
   "cell_type": "code",
   "execution_count": null,
   "metadata": {},
   "outputs": [],
   "source": [
    "df.to_csv(\"Processed_structural_data_sobol.csv\")"
   ]
  },
  {
   "cell_type": "code",
   "execution_count": null,
   "metadata": {},
   "outputs": [],
   "source": [
    "augdf=pd.read_csv(\"FINALProcessed_structural_data_sobol.csv\", index_col=0)\n",
    "\n",
    "augdf=augdf.iloc[:]"
   ]
  },
  {
   "attachments": {},
   "cell_type": "markdown",
   "metadata": {},
   "source": [
    "**Using the \"Design Study Template\" File, we cram the generated designs into the correct format for SW to read, then save**"
   ]
  },
  {
   "cell_type": "code",
   "execution_count": null,
   "metadata": {},
   "outputs": [],
   "source": [
    "# for idx in augdf.index:\n",
    "#     if augdf.at[idx, \" CS F\"]==augdf.at[idx, \" BB Length\"]/2:\n",
    "#         augdf.at[idx, \" CS F\"]=augdf.at[idx, \" CS F\"]-.0001\n",
    "#         print(\"Adjusting CS F for model \" + str(idx) + \" by 0.0001 since it is half of BB length and would cause model to lock!\")\n",
    "\n",
    "\n",
    "template=pd.read_csv(\"Walker_Generation_Template.csv\", encoding=\"ISO-8859-1\")\n",
    "# if \"index\" in template.columns:\n",
    "#     template.drop([\"index\"], axis=1, inplace=True)\n",
    "newindex=augdf.columns.insert(0,\"Status\")\n",
    "augdf[\"Status\"]=np.full(len(augdf.index), 1)\n",
    "augdf=augdf[newindex]\n",
    "augdf.index=[\"Walker\" + str(i) for i in augdf.index]\n",
    "# print(template)\n",
    "template.reset_index(inplace=True)  \n",
    "units=template.iloc[1]\n",
    "\n",
    "#Old code to drop \"Level_0\", replace this by dropping entries from top of units until reaching correct length\n",
    "#     units.drop([\"level_0\"], axis=0, inplace=True)\n",
    "\n",
    "while len(units.index)>len(augdf.columns):\n",
    "    units.drop([units.index[0]], axis=0, inplace=True)\n",
    "units.index=augdf.columns\n",
    "units.rename(\"Units\", inplace=True)\n",
    "augdf=augdf.append(units)\n",
    "newindices= augdf.index[:-1].insert(0, augdf.index[-1])\n",
    "augdf=augdf.reindex(newindices)\n",
    "augdf.columns.rename(\"Parameters\", inplace=True)\n",
    "\n",
    "augdf=augdf.T.reset_index().T\n",
    "cols=[len(augdf.index)-2, len(augdf.columns)-1] + [\"\"]*(len(augdf.columns)-2)\n",
    "# print(cols)\n",
    "augdf.columns=cols\n",
    "augdf.columns.rename(\"Design Set\", inplace=True)\n",
    "# print(units)\n",
    "print(augdf)"
   ]
  },
  {
   "cell_type": "code",
   "execution_count": null,
   "metadata": {},
   "outputs": [],
   "source": [
    "augdf.to_csv(\"generated_param_study_template.csv\", index_label=\"Design Set\")"
   ]
  },
  {
   "cell_type": "markdown",
   "metadata": {},
   "source": [
    "Combining and formatting all the files"
   ]
  },
  {
   "cell_type": "code",
   "execution_count": 3,
   "metadata": {},
   "outputs": [
    {
     "name": "stdout",
     "output_type": "stream",
     "text": [
      "            Calc         H        L1        L2        L3        L4        L5  \\\n",
      "0     Calculated  35.64063  15.67188  18.59375   2.71875   5.96875   17.4375   \n",
      "1     Calculated  37.96094  14.33594  25.85938   6.54688  12.60938  21.34375   \n",
      "2     Calculated  34.86719  17.99219  26.79688   9.35938   9.79688  18.21875   \n",
      "3     Calculated  34.62109  21.75391  23.39844   5.88281   6.55469  17.04688   \n",
      "4     Calculated  35.81641  21.68359  24.57031   2.67969   7.57031  20.32813   \n",
      "...          ...       ...       ...       ...       ...       ...       ...   \n",
      "5394  Calculated  31.33014  20.72284  26.22009   4.77625   8.79651  11.19116   \n",
      "5395  Calculated  35.47858  14.60565  30.20447   9.69812   7.46838  12.90991   \n",
      "5396  Calculated    39.416  16.29315  32.07947   1.57312  10.59338  21.65991   \n",
      "5397  Calculated  35.33795  20.93378   9.11072   5.47937  10.43713  26.34741   \n",
      "5398  Calculated   36.1817  17.84003  17.54822  10.16687   9.49963  28.22241   \n",
      "\n",
      "            L7        L8         A2  ...  \\\n",
      "0     11.21875   8.90625  103.51563  ...   \n",
      "1     18.67188  14.45313  136.91406  ...   \n",
      "2     20.35938   8.51563  101.75781  ...   \n",
      "3     23.52344   7.22656  106.73828  ...   \n",
      "4     21.97656  13.86719  142.48047  ...   \n",
      "...        ...       ...        ...  ...   \n",
      "5394  18.47302   5.47913  108.17108  ...   \n",
      "5395  17.48865  10.55725  162.66327  ...   \n",
      "5396  14.11365  11.18225  139.22577  ...   \n",
      "5397    9.8949     9.151  126.33514  ...   \n",
      "5398   14.9574    5.0885  166.17889  ...   \n",
      "\n",
      "                                               CrossMat  \\\n",
      "0      6061-T6 (SS)@SOLIDWORKS Materials$SOLIDWORKS ...   \n",
      "1      6061-T6 (SS)@SOLIDWORKS Materials$SOLIDWORKS ...   \n",
      "2      6061-T6 (SS)@SOLIDWORKS Materials$SOLIDWORKS ...   \n",
      "3      6061-T6 (SS)@SOLIDWORKS Materials$SOLIDWORKS ...   \n",
      "4      6061-T6 (SS)@SOLIDWORKS Materials$SOLIDWORKS ...   \n",
      "...                                                 ...   \n",
      "5394   Ti-6Al-4VSolution treated and aged (SS)@SOLID...   \n",
      "5395   Ti-6Al-4VSolution treated and aged (SS)@SOLID...   \n",
      "5396   Ti-6Al-4VSolution treated and aged (SS)@SOLID...   \n",
      "5397   Ti-6Al-4VSolution treated and aged (SS)@SOLID...   \n",
      "5398   Ti-6Al-4VSolution treated and aged (SS)@SOLID...   \n",
      "\n",
      "                                               FrameMat  Mass1  \\\n",
      "0      6061-T6 (SS)@SOLIDWORKS Materials$SOLIDWORKS ...   8.89   \n",
      "1      6061-T6 (SS)@SOLIDWORKS Materials$SOLIDWORKS ...  16.94   \n",
      "2      6061-T6 (SS)@SOLIDWORKS Materials$SOLIDWORKS ...   8.86   \n",
      "3      6061-T6 (SS)@SOLIDWORKS Materials$SOLIDWORKS ...  11.76   \n",
      "4      6061-T6 (SS)@SOLIDWORKS Materials$SOLIDWORKS ...   5.79   \n",
      "...                                                 ...    ...   \n",
      "5394   Ti-6Al-4VSolution treated and aged (SS)@SOLID...    9.9   \n",
      "5395   Ti-6Al-4VSolution treated and aged (SS)@SOLID...  21.13   \n",
      "5396   Ti-6Al-4VSolution treated and aged (SS)@SOLID...   8.61   \n",
      "5397   Ti-6Al-4VSolution treated and aged (SS)@SOLID...  14.26   \n",
      "5398   Ti-6Al-4VSolution treated and aged (SS)@SOLID...  10.76   \n",
      "\n",
      "     Minimum Factor of Safety1 Center_Y Center_Z Leg_Displacement  Handle_X  \\\n",
      "0                     1.30E+01    20.31     0.67         6.48E-02  1.89E-02   \n",
      "1                     8.52E+00    22.33     1.13         3.70E-02  8.66E-02   \n",
      "2                     7.76E+00    19.83     1.93         2.18E-01  1.59E-01   \n",
      "3                     1.73E+01     20.4     1.61         7.47E-02  4.86E-02   \n",
      "4                     2.96E+00    21.86     1.68         2.86E-01  3.47E-01   \n",
      "...                        ...      ...      ...              ...       ...   \n",
      "5394                  1.67E+01    17.64     1.15         1.09E-01  3.90E-02   \n",
      "5395                  2.92E+00    21.27      0.8         2.23E-02  3.04E-02   \n",
      "5396                  5.20E+00    23.83     1.56         5.34E-01  1.13E-01   \n",
      "5397                  9.54E+00     19.2     0.88         2.86E-02  7.10E-02   \n",
      "5398                  4.43E+00    19.47     0.98         2.45E-01  4.08E-02   \n",
      "\n",
      "       Handle_Y   Handle_Z  \n",
      "0     -3.16E-02  -5.71E-03  \n",
      "1     -1.60E-02  -4.49E-03  \n",
      "2     -1.06E-01  -1.84E-02  \n",
      "3     -3.57E-02  -6.24E-03  \n",
      "4     -1.36E-01  -2.40E-02  \n",
      "...         ...        ...  \n",
      "5394  -5.37E-02  -3.90E-03  \n",
      "5395  -9.75E-03  -1.46E-03  \n",
      "5396  -2.66E-01  -3.64E-02  \n",
      "5397  -1.08E-02  -1.44E-02  \n",
      "5398  -1.21E-01  -3.85E-02  \n",
      "\n",
      "[5006 rows x 25 columns]\n"
     ]
    }
   ],
   "source": [
    "import numpy as np\n",
    "from numpy import random\n",
    "import pandas as pd\n",
    "import scipy.stats as st\n",
    "from pathlib import Path\n",
    "import sys\n",
    "sys.path.append('sobol_seq-0.1-np19py34_0/lib/python3.4/site-packages')\n",
    "sys.path.append('getInvalid.py')\n",
    "from sobol_seq import sobol_seq\n",
    "import random\n",
    "import getInvalid\n",
    "\n",
    "augdf=pd.read_csv(\"FINALProcessed_structural_data_sobol.csv\", index_col=0)\n",
    "\n",
    "augdf=augdf.iloc[:]\n",
    "# Read each CSV file and add its elements to the series\n",
    "columns = ['Calc', 'H', 'L1', 'L2', 'L3', 'L4', 'L5', 'L7', 'L8', 'A2', 'D', 'T', 'D2', 'T2', 'D3', 'CrossMat', 'FrameMat', 'Mass1', 'Minimum Factor of Safety1', 'Center_Y', 'Center_Z', 'Leg_Displacement', 'Handle_X','Handle_Y', 'Handle_Z']\n",
    "\n",
    "file_names = [\"alal0-200.csv\", \"alal200-400.csv\", \"alal400-600.csv\", \n",
    "            \"alst0-200.csv\", \"alst200-400.csv\", \"alst400-600.csv\",\n",
    "            \"alti0-200.csv\", \"alti200-400.csv\", \"alti400-600.csv\",\n",
    "\n",
    "            \"stal0-200.csv\", \"stal200-400.csv\", \"stal400-600.csv\",\n",
    "            \"stst0-200.csv\", \"stst200-400.csv\", \"stst400-600.csv\",\n",
    "            \"stti0-200.csv\", \"stti200-400.csv\", \"stti400-600.csv\",\n",
    "\n",
    "            \"tial0-200.csv\", \"tial200-400.csv\", \"tial400-600.csv\",\n",
    "            \"tist0-200.csv\", \"tist200-400.csv\", \"tist400-600.csv\",\n",
    "            \"titi0-200.csv\", \"titi200-400.csv\", \"titi400-600.csv\",\n",
    "            ]\n",
    "combined_df = pd.DataFrame()\n",
    "\n",
    "for file_name in file_names:\n",
    "    df = pd.read_csv(file_name, header=None, skiprows=3)\n",
    "    df = df.iloc[:, 5:]\n",
    "    combined_df = pd.concat([combined_df, df], axis=1)\n",
    "combined_df = combined_df.transpose()\n",
    "#combined_df.columns = columns\n",
    "combined_df.columns = columns\n",
    "combined_df.reset_index(drop=True, inplace=True)\n",
    "# num_rows_to_copy = min(len(combined_df), len(augdf))\n",
    "\n",
    "# # Trim 'augdf' columns \"CrossMat\" and \"FrameMat\" to fit the size of 'combined_df'\n",
    "# trimmed_crossmat = augdf[\" CrossMat\"].iloc[:num_rows_to_copy].reset_index(drop=True)\n",
    "# trimmed_framemat = augdf[\" FrameMat\"].iloc[:num_rows_to_copy].reset_index(drop=True)\n",
    "# # Copy the trimmed columns to 'combined_df'\n",
    "# combined_df[\"CrossMat\"] = trimmed_crossmat\n",
    "# combined_df[\"FrameMat\"] = trimmed_framemat\n",
    "combined_df = combined_df[combined_df.iloc[:, 0] != \"Estimated\"]\n",
    "combined_df = combined_df.iloc[:, 1:]\n",
    "combined_df.to_csv(\"formattedData.csv\")"
   ]
  }
 ],
 "metadata": {
  "kernelspec": {
   "display_name": "Python 3 (ipykernel)",
   "language": "python",
   "name": "python3"
  },
  "language_info": {
   "codemirror_mode": {
    "name": "ipython",
    "version": 3
   },
   "file_extension": ".py",
   "mimetype": "text/x-python",
   "name": "python",
   "nbconvert_exporter": "python",
   "pygments_lexer": "ipython3",
   "version": "3.11.3"
  }
 },
 "nbformat": 4,
 "nbformat_minor": 4
}
