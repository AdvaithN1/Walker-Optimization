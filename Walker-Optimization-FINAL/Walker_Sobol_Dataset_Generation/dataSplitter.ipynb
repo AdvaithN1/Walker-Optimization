{
 "cells": [
  {
   "cell_type": "code",
   "execution_count": 15,
   "metadata": {},
   "outputs": [
    {
     "name": "stdout",
     "output_type": "stream",
     "text": [
      "               H         L1         L2         L3         L4         L5  \\\n",
      "0      35.500000  17.500000  20.000000   6.000000   8.000000  19.000000   \n",
      "2      33.250000  19.750000  12.500000   8.500000   5.500000  24.000000   \n",
      "3      34.375000  16.375000  23.750000   2.250000  11.750000  26.500000   \n",
      "4      38.875000  20.875000   8.750000   7.250000   6.750000  16.500000   \n",
      "8      37.187500  20.312500  29.375000   2.875000   3.625000  22.750000   \n",
      "...          ...        ...        ...        ...        ...        ...   \n",
      "54991  32.045486  14.139694  16.537018  10.875641   6.972015  21.464905   \n",
      "54994  34.295486  20.889694   9.037018   3.375641   4.472015  16.464905   \n",
      "54996  39.920486  19.764694  12.787018   4.625641   3.222015  28.964905   \n",
      "54997  37.670486  13.014694   5.287018   7.125641   5.722015  13.964905   \n",
      "54999  32.607986  16.952194  10.912018   4.000641  12.597015  22.714905   \n",
      "\n",
      "              L7         L8          A2         D         T        D2  \\\n",
      "0      16.000000  10.000000  137.500000  0.350000  0.200000  0.350000   \n",
      "2      11.500000  12.500000  156.250000  0.200000  0.275000  0.200000   \n",
      "3       9.250000  11.250000  109.375000  0.575000  0.162500  0.425000   \n",
      "4      18.250000   6.250000  146.875000  0.275000  0.312500  0.125000   \n",
      "8      17.125000   9.375000  151.562500  0.387500  0.106250  0.237500   \n",
      "...          ...        ...         ...       ...       ...       ...   \n",
      "54991   7.836334  14.954376  114.093399  0.399374  0.198219  0.215482   \n",
      "54994  12.336334   7.454376  170.343399  0.549374  0.273219  0.065482   \n",
      "54996  19.086334  13.704376  142.218399  0.624374  0.235719  0.290482   \n",
      "54997  23.586334   6.204376  123.468399  0.474374  0.160719  0.140482   \n",
      "54999   8.961334   5.579376  100.030899  0.361874  0.291969  0.402982   \n",
      "\n",
      "             T2        D3                                           CrossMat  \\\n",
      "0      0.200000  0.600000   AISI 4130 Steel#^# annealed at 865C@SOLIDWORK...   \n",
      "2      0.275000  0.425000   Ti-6Al-4VSolution treated and aged (SS)@SOLID...   \n",
      "3      0.087500  0.512500   Ti-6Al-4VSolution treated and aged (SS)@SOLID...   \n",
      "4      0.237500  0.862500   Ti-6Al-4VSolution treated and aged (SS)@SOLID...   \n",
      "8      0.068750  0.381250   Ti-6Al-4VSolution treated and aged (SS)@SOLID...   \n",
      "...         ...       ...                                                ...   \n",
      "54991  0.063445  0.521269   AISI 4130 Steel#^# annealed at 865C@SOLIDWORK...   \n",
      "54994  0.288445  0.346269   Ti-6Al-4VSolution treated and aged (SS)@SOLID...   \n",
      "54996  0.250945  0.608769   6061-T6 (SS)@SOLIDWORKS Materials$SOLIDWORKS ...   \n",
      "54997  0.175945  0.783769   AISI 4130 Steel#^# annealed at 865C@SOLIDWORK...   \n",
      "54999  0.232195  0.827519   AISI 4130 Steel#^# annealed at 865C@SOLIDWORK...   \n",
      "\n",
      "                                                FrameMat  \n",
      "0       6061-T6 (SS)@SOLIDWORKS Materials$SOLIDWORKS ...  \n",
      "2       6061-T6 (SS)@SOLIDWORKS Materials$SOLIDWORKS ...  \n",
      "3       AISI 4130 Steel#^# annealed at 865C@SOLIDWORK...  \n",
      "4       6061-T6 (SS)@SOLIDWORKS Materials$SOLIDWORKS ...  \n",
      "8       AISI 4130 Steel#^# annealed at 865C@SOLIDWORK...  \n",
      "...                                                  ...  \n",
      "54991   6061-T6 (SS)@SOLIDWORKS Materials$SOLIDWORKS ...  \n",
      "54994   AISI 4130 Steel#^# annealed at 865C@SOLIDWORK...  \n",
      "54996   AISI 4130 Steel#^# annealed at 865C@SOLIDWORK...  \n",
      "54997   6061-T6 (SS)@SOLIDWORKS Materials$SOLIDWORKS ...  \n",
      "54999   Ti-6Al-4VSolution treated and aged (SS)@SOLID...  \n",
      "\n",
      "[18524 rows x 16 columns]\n"
     ]
    }
   ],
   "source": [
    "import pandas as pd\n",
    "\n",
    "steel=\" AISI 4130 Steel#^# annealed at 865C@SOLIDWORKS Materials$SOLIDWORKS Materials|AISI 4130 Steel#^# annealed at 865C|94$C:/Program Files/SOLIDWORKS Corp/SOLIDWORKS/lang/english/sldmaterials/SOLIDWORKS Materials.sldmat|AISI 4130 Steel#^# annealed at 865C|94\"\n",
    "aluminum=\" 6061-T6 (SS)@SOLIDWORKS Materials$SOLIDWORKS Materials|6061-T6 (SS)|164$C:/Program Files/SOLIDWORKS Corp/SOLIDWORKS/lang/english/sldmaterials/SOLIDWORKS Materials.sldmat|6061-T6 (SS)|164\"\n",
    "titanium=\" Ti-6Al-4VSolution treated and aged (SS)@SOLIDWORKS Materials$SOLIDWORKS Materials|Ti-6Al-4VSolution treated and aged (SS)|205$C:/Program Files/SOLIDWORKS Corp/SOLIDWORKS/lang/english/sldmaterials/SOLIDWORKS Materials.sldmat|Ti-6Al-4VSolution treated and aged (SS)|205\"\n",
    "\n",
    "augdf=pd.read_csv(\"FINALProcessed_structural_data_sobol.csv\", index_col=0)\n",
    "print(augdf)"
   ]
  },
  {
   "cell_type": "code",
   "execution_count": 16,
   "metadata": {},
   "outputs": [],
   "source": [
    "alaldf = augdf[(augdf[' FrameMat'] == aluminum) & (augdf[' CrossMat'] == aluminum)]\n",
    "alstdf = augdf[(augdf[' FrameMat'] == aluminum) & (augdf[' CrossMat'] == steel)]\n",
    "altidf = augdf[(augdf[' FrameMat'] == aluminum) & (augdf[' CrossMat'] == titanium)]\n",
    "\n",
    "staldf = augdf[(augdf[' FrameMat'] == steel) & (augdf[' CrossMat'] == aluminum)]\n",
    "ststdf = augdf[(augdf[' FrameMat'] == steel) & (augdf[' CrossMat'] == steel)]\n",
    "sttidf = augdf[(augdf[' FrameMat'] == steel) & (augdf[' CrossMat'] == titanium)]\n",
    "\n",
    "tialdf = augdf[(augdf[' FrameMat'] == titanium) & (augdf[' CrossMat'] == aluminum)]\n",
    "tistdf = augdf[(augdf[' FrameMat'] == titanium) & (augdf[' CrossMat'] == steel)]\n",
    "titidf = augdf[(augdf[' FrameMat'] == titanium) & (augdf[' CrossMat'] == titanium)]\n",
    "\n",
    "alaldf.to_csv('alaldf.csv')\n",
    "alstdf.to_csv('alstdf.csv')\n",
    "altidf.to_csv('altidf.csv')\n",
    "\n",
    "staldf.to_csv('staldf.csv')\n",
    "ststdf.to_csv('ststdf.csv')\n",
    "sttidf.to_csv('sttidf.csv')\n",
    "\n",
    "tialdf.to_csv('tialdf.csv')\n",
    "tistdf.to_csv('tistdf.csv')\n",
    "titidf.to_csv('titidf.csv')"
   ]
  }
 ],
 "metadata": {
  "kernelspec": {
   "display_name": "pythonTest",
   "language": "python",
   "name": "python3"
  },
  "language_info": {
   "codemirror_mode": {
    "name": "ipython",
    "version": 3
   },
   "file_extension": ".py",
   "mimetype": "text/x-python",
   "name": "python",
   "nbconvert_exporter": "python",
   "pygments_lexer": "ipython3",
   "version": "3.11.3"
  },
  "orig_nbformat": 4
 },
 "nbformat": 4,
 "nbformat_minor": 2
}
